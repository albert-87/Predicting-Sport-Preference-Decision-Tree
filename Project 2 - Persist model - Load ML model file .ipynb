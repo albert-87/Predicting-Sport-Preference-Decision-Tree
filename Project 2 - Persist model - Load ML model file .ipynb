{
 "cells": [
  {
   "cell_type": "code",
   "execution_count": 79,
   "id": "577ceeaf",
   "metadata": {
    "scrolled": true
   },
   "outputs": [
    {
     "data": {
      "text/plain": [
       "array(['mma'], dtype=object)"
      ]
     },
     "execution_count": 79,
     "metadata": {},
     "output_type": "execute_result"
    }
   ],
   "source": [
    "# LOAD ML MODEL FILE\n",
    "\n",
    "# ML model - Persisting (re-using) Models \n",
    "# We will build and train our model and save to a file. \n",
    "# The next time we want to make predictions we just load the model from the file and ask it to make predictions. \n",
    "# This saved model is already trained... so we do not need to retrain it. \n",
    "# Below is the code on how to do this. \n",
    "\n",
    "\n",
    "import pandas as pd \n",
    "from sklearn.tree import DecisionTreeClassifier\n",
    "import joblib # this job lib object has methods for saving and loading models\n",
    "\n",
    "sports_data = pd.read_csv('sportsdata.csv')\n",
    "X = sports_data.drop(columns = 'sport')\n",
    "y = sports_data['sport']\n",
    "\n",
    "model = DecisionTreeClassifier()\n",
    "model.fit(X.values, y.values)\n",
    "\n",
    "# sports_predictor.joblib is the file where we want to store our trained model. Save file. \n",
    "model = joblib.load('sports_predictor.joblib') \n",
    "\n",
    "predictions = model.predict([[21,1]])\n",
    "predictions\n"
   ]
  },
  {
   "cell_type": "code",
   "execution_count": null,
   "id": "5dd09dc8",
   "metadata": {},
   "outputs": [],
   "source": []
  }
 ],
 "metadata": {
  "kernelspec": {
   "display_name": "Python 3 (ipykernel)",
   "language": "python",
   "name": "python3"
  },
  "language_info": {
   "codemirror_mode": {
    "name": "ipython",
    "version": 3
   },
   "file_extension": ".py",
   "mimetype": "text/x-python",
   "name": "python",
   "nbconvert_exporter": "python",
   "pygments_lexer": "ipython3",
   "version": "3.9.13"
  }
 },
 "nbformat": 4,
 "nbformat_minor": 5
}
